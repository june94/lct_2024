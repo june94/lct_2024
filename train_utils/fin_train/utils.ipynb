{
 "cells": [
  {
   "cell_type": "code",
   "execution_count": null,
   "id": "c4bf7395-82be-407a-a268-59f9bb0d1496",
   "metadata": {},
   "outputs": [],
   "source": [
    "#!:bash\n",
    "nvidia-smi"
   ]
  },
  {
   "cell_type": "code",
   "execution_count": 1,
   "id": "1c98b0d2-c250-4d78-ba19-790580d031c2",
   "metadata": {
    "execution": {
     "iopub.execute_input": "2024-06-08T16:09:43.696709Z",
     "iopub.status.busy": "2024-06-08T16:09:43.695154Z",
     "iopub.status.idle": "2024-06-08T16:32:08.291076Z",
     "shell.execute_reply": "2024-06-08T16:32:08.290302Z",
     "shell.execute_reply.started": "2024-06-08T16:09:43.696662Z"
    },
    "tags": []
   },
   "outputs": [
    {
     "data": {
      "application/vnd.jupyter.widget-view+json": {
       "model_id": "d17385f60b644b16947ecbfff3a6428d",
       "version_major": 2,
       "version_minor": 0
      },
      "text/plain": [
       "Extracting :   0%|          | 0/271358 [00:00<?, ?it/s]"
      ]
     },
     "metadata": {},
     "output_type": "display_data"
    }
   ],
   "source": [
    "import zipfile\n",
    "from tqdm.notebook import tqdm\n",
    "\n",
    "file = \"train\"\n",
    "fname = f'/home/jupyter/datasphere/project/data/{file}.zip'\n",
    "path = '/home/jupyter/datasphere/project/data/'\n",
    "\n",
    "with zipfile.ZipFile(fname, 'r') as zf:\n",
    "    for entry in tqdm(zf.infolist(), desc='Extracting '):\n",
    "        try:\n",
    "            zf.extract(entry, path)\n",
    "        except zipfile.error as e:\n",
    "            pass"
   ]
  },
  {
   "cell_type": "code",
   "execution_count": null,
   "id": "4d5c5ae2-66cb-4305-ad4e-2d94e7bb9a31",
   "metadata": {},
   "outputs": [],
   "source": []
  }
 ],
 "metadata": {
  "kernelspec": {
   "display_name": "DataSphere Kernel",
   "language": "python",
   "name": "python3"
  },
  "language_info": {
   "codemirror_mode": {
    "name": "ipython",
    "version": 3
   },
   "file_extension": ".py",
   "mimetype": "text/x-python",
   "name": "python",
   "nbconvert_exporter": "python",
   "pygments_lexer": "ipython3",
   "version": "3.10.12"
  }
 },
 "nbformat": 4,
 "nbformat_minor": 5
}
